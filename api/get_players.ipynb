{
 "cells": [
  {
   "cell_type": "code",
   "execution_count": 27,
   "metadata": {},
   "outputs": [],
   "source": [
    "import pandas as pd\n",
    "import csv\n",
    "import os\n",
    "from dotenv import load_dotenv\n",
    "import aiohttp\n",
    "import asyncio\n",
    "from aiohttp import ClientSession\n",
    "from pprint import pprint\n",
    "from dataclasses import dataclass\n",
    "import json\n"
   ]
  },
  {
   "cell_type": "code",
   "execution_count": 50,
   "metadata": {},
   "outputs": [],
   "source": [
    "# Set the competition to get the players from (e.g. 'L1', 'GB1', 'ES1', 'IT1', 'FR1')\n",
    "set_competition = 'IT1'"
   ]
  },
  {
   "cell_type": "code",
   "execution_count": 51,
   "metadata": {},
   "outputs": [],
   "source": [
    "load_dotenv()\n",
    "api_key = os.getenv('API_KEY')\n",
    "api_host = os.getenv('API_HOST')\n",
    "competetions = ['L1', 'GB1', 'ES1', 'IT1', 'FR1']\n",
    "seasons = list(range(2021, 2024))\n",
    "next_delay = 0.3\n",
    "players = {}"
   ]
  },
  {
   "cell_type": "code",
   "execution_count": 52,
   "metadata": {},
   "outputs": [],
   "source": [
    "teams_per_season = {}\n",
    "\n",
    "for league in competetions:\n",
    "    teams_per_season[league] = {}\n",
    "    for season in seasons:\n",
    "        teams_per_season[league][season] = {}"
   ]
  },
  {
   "cell_type": "code",
   "execution_count": 53,
   "metadata": {},
   "outputs": [],
   "source": [
    "with open('teams_per_season2021-2023.csv') as f:\n",
    "    for i in csv.reader(f, delimiter=';'):\n",
    "        str = i[2]\n",
    "        l = []\n",
    "        for j in str[1:-1].split(','):\n",
    "            l.append(int(j))\n",
    "        teams_per_season[i[0]][int(i[1])] = l\n",
    "    "
   ]
  },
  {
   "cell_type": "code",
   "execution_count": 54,
   "metadata": {},
   "outputs": [],
   "source": [
    "error = []"
   ]
  },
  {
   "cell_type": "code",
   "execution_count": 55,
   "metadata": {},
   "outputs": [],
   "source": [
    "async def get_players(season, team, session):\n",
    "    global next_delay\n",
    "    global players\n",
    "    \n",
    "    next_delay += 0.3\n",
    "    await asyncio.sleep(next_delay)\n",
    "    \n",
    "    url = 'https://transfermarket.p.rapidapi.com/clubs/get-squad'\n",
    "    querystring = {'id':team, 'saison_id':season}\n",
    "    headers = {\n",
    "        'X-RapidAPI-Key': api_key,\n",
    "        'X-RapidAPI-Host': api_host\n",
    "        }\n",
    "    \n",
    "    async with session.get(url, headers=headers, params=querystring) as response:\n",
    "        if response.status == 200:\n",
    "            dict = await response.json()\n",
    "            if dict.get('squad') is not None:\n",
    "                for p in dict['squad']:\n",
    "                    key = int(p.get('id'))\n",
    "                    players[key] = {}\n",
    "        if response.status != 200:\n",
    "            error.append([season, team, response])\n",
    "            print(f'Error: {season}, {team}, {response.status}')\n",
    "    \n",
    "async def get_players_of_teams(seasons, teams_per_season, set_competition):\n",
    "    \n",
    "    async with ClientSession() as session:\n",
    "        tasks = []\n",
    "        for season in teams_per_season[set_competition]:\n",
    "            for team in teams_per_season[set_competition][season]:\n",
    "                task = asyncio.ensure_future(get_players(season, team, session))\n",
    "                tasks.append(task)\n",
    "        print(f'{len(tasks)} Tasks created')\n",
    "        await asyncio.gather(*tasks)\n",
    "    \n",
    "    global next_delay\n",
    "    next_delay = 0.3"
   ]
  },
  {
   "cell_type": "code",
   "execution_count": 56,
   "metadata": {},
   "outputs": [
    {
     "name": "stdout",
     "output_type": "stream",
     "text": [
      "60 Tasks created\n"
     ]
    }
   ],
   "source": [
    "await get_players_of_teams(seasons, teams_per_season, set_competition)"
   ]
  },
  {
   "cell_type": "code",
   "execution_count": 57,
   "metadata": {},
   "outputs": [],
   "source": [
    "rest = {\n",
    "    set_competition:{}\n",
    "}"
   ]
  },
  {
   "cell_type": "code",
   "execution_count": 58,
   "metadata": {},
   "outputs": [
    {
     "ename": "IndexError",
     "evalue": "list index out of range",
     "output_type": "error",
     "traceback": [
      "\u001b[0;31m---------------------------------------------------------------------------\u001b[0m",
      "\u001b[0;31mIndexError\u001b[0m                                Traceback (most recent call last)",
      "Cell \u001b[0;32mIn[58], line 1\u001b[0m\n\u001b[0;32m----> 1\u001b[0m error[\u001b[39m0\u001b[39;49m]\n",
      "\u001b[0;31mIndexError\u001b[0m: list index out of range"
     ]
    }
   ],
   "source": [
    "error[0]"
   ]
  },
  {
   "cell_type": "code",
   "execution_count": null,
   "metadata": {},
   "outputs": [],
   "source": [
    "for i in error:\n",
    "    if i[0] not in rest[set_competition]:\n",
    "        rest[set_competition][i[0]] = []\n",
    "    rest[set_competition][i[0]].append(i[1])"
   ]
  },
  {
   "cell_type": "code",
   "execution_count": null,
   "metadata": {},
   "outputs": [
    {
     "name": "stdout",
     "output_type": "stream",
     "text": [
      "0 Tasks created\n"
     ]
    }
   ],
   "source": [
    "await get_players_of_teams(seasons, rest, set_competition)"
   ]
  },
  {
   "cell_type": "code",
   "execution_count": 59,
   "metadata": {},
   "outputs": [
    {
     "data": {
      "text/plain": [
       "1177"
      ]
     },
     "execution_count": 59,
     "metadata": {},
     "output_type": "execute_result"
    }
   ],
   "source": [
    "len(players)"
   ]
  },
  {
   "cell_type": "code",
   "execution_count": null,
   "metadata": {},
   "outputs": [],
   "source": [
    "pd.DataFrame(players).T.to_csv(f'players_{set_competition}-2021-2023.csv', header=False)"
   ]
  }
 ],
 "metadata": {
  "kernelspec": {
   "display_name": "Python 3.9.12 ('bdo_venv': venv)",
   "language": "python",
   "name": "python3"
  },
  "language_info": {
   "codemirror_mode": {
    "name": "ipython",
    "version": 3
   },
   "file_extension": ".py",
   "mimetype": "text/x-python",
   "name": "python",
   "nbconvert_exporter": "python",
   "pygments_lexer": "ipython3",
   "version": "3.10.11"
  },
  "orig_nbformat": 4,
  "vscode": {
   "interpreter": {
    "hash": "ef3b7d2769b743756ce8b3a2b0992bee8ee243f36170a3861846b458558757b5"
   }
  }
 },
 "nbformat": 4,
 "nbformat_minor": 2
}
