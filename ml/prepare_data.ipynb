{
 "cells": [
  {
   "cell_type": "code",
   "execution_count": 2,
   "metadata": {},
   "outputs": [],
   "source": [
    "import json\n",
    "import re\n",
    "from pprint import pprint\n",
    "\n",
    "file_path = r'/Users/adrianfranz/Documents/Studium/6. Semester/Unternehmenssoftware/Projekt/data/player_data.json'"
   ]
  },
  {
   "cell_type": "code",
   "execution_count": 3,
   "metadata": {},
   "outputs": [],
   "source": [
    "with open(file_path) as file:\n",
    "    data = json.load(file)"
   ]
  },
  {
   "cell_type": "code",
   "execution_count": 4,
   "metadata": {},
   "outputs": [],
   "source": [
    "def filter_seasons(player):\n",
    "    filtered_seasons = []\n",
    "    for season in player['seasons']:\n",
    "        season_name = season['season']\n",
    "        start_year = int(season_name.split('/')[0])\n",
    "        if start_year < 100:\n",
    "            start_year += 2000 if start_year < 50 else 1900\n",
    "        if start_year >= 2000:\n",
    "            filtered_seasons.append(season)\n",
    "\n",
    "    player['seasons'] = filtered_seasons\n",
    "\n",
    "    return player"
   ]
  },
  {
   "cell_type": "code",
   "execution_count": 5,
   "metadata": {},
   "outputs": [],
   "source": [
    "data_prepared = [filter_seasons(data[k]) for k in data]"
   ]
  },
  {
   "cell_type": "code",
   "execution_count": 7,
   "metadata": {},
   "outputs": [],
   "source": [
    "with open('player_data_prepared2000-2023.json', 'w') as file:\n",
    "    json.dump(data_prepared, file)"
   ]
  }
 ],
 "metadata": {
  "kernelspec": {
   "display_name": ".venv_uws",
   "language": "python",
   "name": "python3"
  },
  "language_info": {
   "codemirror_mode": {
    "name": "ipython",
    "version": 3
   },
   "file_extension": ".py",
   "mimetype": "text/x-python",
   "name": "python",
   "nbconvert_exporter": "python",
   "pygments_lexer": "ipython3",
   "version": "3.10.11"
  },
  "orig_nbformat": 4
 },
 "nbformat": 4,
 "nbformat_minor": 2
}
