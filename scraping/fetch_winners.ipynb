{
 "cells": [
  {
   "cell_type": "code",
   "execution_count": 2,
   "metadata": {},
   "outputs": [],
   "source": [
    "from bs4 import BeautifulSoup\n",
    "from pprint import pprint\n",
    "import requests\n",
    "import pandas as pd\n",
    "import json"
   ]
  },
  {
   "cell_type": "code",
   "execution_count": 3,
   "metadata": {},
   "outputs": [],
   "source": [
    "url = r'https://de.wikipedia.org/wiki/Ballon_d’Or'"
   ]
  },
  {
   "cell_type": "code",
   "execution_count": 4,
   "metadata": {},
   "outputs": [
    {
     "name": "stdout",
     "output_type": "stream",
     "text": [
      "200\n"
     ]
    }
   ],
   "source": [
    "response = requests.get(url)\n",
    "soup = BeautifulSoup(response.text, 'html.parser')\n",
    "print(response.status_code)\n",
    "table = soup.find('table', class_= 'wikitable sortable')\n"
   ]
  },
  {
   "cell_type": "code",
   "execution_count": 30,
   "metadata": {},
   "outputs": [
    {
     "ename": "AttributeError",
     "evalue": "'NoneType' object has no attribute 'isdigit'",
     "output_type": "error",
     "traceback": [
      "\u001b[0;31m---------------------------------------------------------------------------\u001b[0m",
      "\u001b[0;31mAttributeError\u001b[0m                            Traceback (most recent call last)",
      "Cell \u001b[0;32mIn[30], line 6\u001b[0m\n\u001b[1;32m      4\u001b[0m \u001b[39mfor\u001b[39;00m cell \u001b[39min\u001b[39;00m row\u001b[39m.\u001b[39mfind_all([\u001b[39m'\u001b[39m\u001b[39mth\u001b[39m\u001b[39m'\u001b[39m, \u001b[39m'\u001b[39m\u001b[39mtd\u001b[39m\u001b[39m'\u001b[39m]):\n\u001b[1;32m      5\u001b[0m     row_data\u001b[39m.\u001b[39mappend(cell\u001b[39m.\u001b[39mtitle)\n\u001b[0;32m----> 6\u001b[0m \u001b[39mif\u001b[39;00m row_data \u001b[39mand\u001b[39;00m row_data[\u001b[39m0\u001b[39;49m]\u001b[39m.\u001b[39;49misdigit():\n\u001b[1;32m      7\u001b[0m     table_data\u001b[39m.\u001b[39mappend(row_data)\n",
      "\u001b[0;31mAttributeError\u001b[0m: 'NoneType' object has no attribute 'isdigit'"
     ]
    }
   ],
   "source": [
    "table_data = []\n",
    "for row in table.find_all('tr'):\n",
    "    row_data = []\n",
    "    for cell in row.find_all(['th', 'td']):\n",
    "        row_data.append(cell.title)\n",
    "    if row_data and row_data[0].isdigit():\n",
    "        table_data.append(row_data)"
   ]
  },
  {
   "cell_type": "code",
   "execution_count": 22,
   "metadata": {},
   "outputs": [],
   "source": [
    "table_data = []\n",
    "trs = table.find_all('tr')\n",
    "for tr in trs:\n",
    "    row_data = []\n",
    "    tds = tr.find_all('td')\n",
    "    for td in tds:\n",
    "        _a = td.find_all('a')\n",
    "        for a in _a:\n",
    "            row_data.append(a.text.strip())\n",
    "    if row_data and row_data[0].isdigit():\n",
    "        table_data.append(row_data)\n",
    "        "
   ]
  },
  {
   "cell_type": "code",
   "execution_count": 23,
   "metadata": {},
   "outputs": [
    {
     "data": {
      "text/plain": [
       "['1956',\n",
       " 'Stanley Matthews',\n",
       " '',\n",
       " 'England',\n",
       " '',\n",
       " 'FC Blackpool',\n",
       " '',\n",
       " 'Alfredo Di Stéfano',\n",
       " '',\n",
       " 'Raymond Kopa']"
      ]
     },
     "execution_count": 23,
     "metadata": {},
     "output_type": "execute_result"
    }
   ],
   "source": [
    "table_data[0]"
   ]
  },
  {
   "cell_type": "code",
   "execution_count": 26,
   "metadata": {},
   "outputs": [],
   "source": [
    "df = pd.DataFrame()\n",
    "df['year'] = [row[0] for row in table_data]\n",
    "df['#1'] = [row[1] for row in table_data]\n",
    "df['#2'] = [row[7] for row in table_data]\n",
    "df['#3'] = [row[9] for row in table_data]"
   ]
  },
  {
   "cell_type": "code",
   "execution_count": 30,
   "metadata": {},
   "outputs": [
    {
     "data": {
      "text/html": [
       "<div>\n",
       "<style scoped>\n",
       "    .dataframe tbody tr th:only-of-type {\n",
       "        vertical-align: middle;\n",
       "    }\n",
       "\n",
       "    .dataframe tbody tr th {\n",
       "        vertical-align: top;\n",
       "    }\n",
       "\n",
       "    .dataframe thead th {\n",
       "        text-align: right;\n",
       "    }\n",
       "</style>\n",
       "<table border=\"1\" class=\"dataframe\">\n",
       "  <thead>\n",
       "    <tr style=\"text-align: right;\">\n",
       "      <th></th>\n",
       "      <th>year</th>\n",
       "      <th>#1</th>\n",
       "      <th>#2</th>\n",
       "      <th>#3</th>\n",
       "    </tr>\n",
       "  </thead>\n",
       "  <tbody>\n",
       "    <tr>\n",
       "      <th>0</th>\n",
       "      <td>1956</td>\n",
       "      <td>Stanley Matthews</td>\n",
       "      <td>Alfredo Di Stéfano</td>\n",
       "      <td>Raymond Kopa</td>\n",
       "    </tr>\n",
       "    <tr>\n",
       "      <th>1</th>\n",
       "      <td>1957</td>\n",
       "      <td>Alfredo Di Stéfano</td>\n",
       "      <td>Billy Wright</td>\n",
       "      <td>Duncan Edwards</td>\n",
       "    </tr>\n",
       "    <tr>\n",
       "      <th>2</th>\n",
       "      <td>1958</td>\n",
       "      <td>Raymond Kopa</td>\n",
       "      <td>Helmut Rahn</td>\n",
       "      <td>Just Fontaine</td>\n",
       "    </tr>\n",
       "    <tr>\n",
       "      <th>3</th>\n",
       "      <td>1959</td>\n",
       "      <td>Alfredo Di Stéfano</td>\n",
       "      <td>Raymond Kopa</td>\n",
       "      <td>John Charles</td>\n",
       "    </tr>\n",
       "    <tr>\n",
       "      <th>4</th>\n",
       "      <td>1960</td>\n",
       "      <td>Luis Suárez</td>\n",
       "      <td>Ferenc Puskás</td>\n",
       "      <td>Uwe Seeler</td>\n",
       "    </tr>\n",
       "    <tr>\n",
       "      <th>...</th>\n",
       "      <td>...</td>\n",
       "      <td>...</td>\n",
       "      <td>...</td>\n",
       "      <td>...</td>\n",
       "    </tr>\n",
       "    <tr>\n",
       "      <th>61</th>\n",
       "      <td>2017</td>\n",
       "      <td>Cristiano Ronaldo</td>\n",
       "      <td>Lionel Messi</td>\n",
       "      <td>Neymar</td>\n",
       "    </tr>\n",
       "    <tr>\n",
       "      <th>62</th>\n",
       "      <td>2018</td>\n",
       "      <td>Luka Modrić</td>\n",
       "      <td>Cristiano Ronaldo</td>\n",
       "      <td>Antoine Griezmann</td>\n",
       "    </tr>\n",
       "    <tr>\n",
       "      <th>63</th>\n",
       "      <td>2019</td>\n",
       "      <td>Lionel Messi</td>\n",
       "      <td>Virgil van Dijk</td>\n",
       "      <td>Cristiano Ronaldo</td>\n",
       "    </tr>\n",
       "    <tr>\n",
       "      <th>64</th>\n",
       "      <td>2021</td>\n",
       "      <td>Lionel Messi</td>\n",
       "      <td>Paris Saint-Germain</td>\n",
       "      <td></td>\n",
       "    </tr>\n",
       "    <tr>\n",
       "      <th>65</th>\n",
       "      <td>2022</td>\n",
       "      <td>Karim Benzema</td>\n",
       "      <td>Sadio Mané</td>\n",
       "      <td>Kevin De Bruyne</td>\n",
       "    </tr>\n",
       "  </tbody>\n",
       "</table>\n",
       "<p>66 rows × 4 columns</p>\n",
       "</div>"
      ],
      "text/plain": [
       "    year                  #1                   #2                 #3\n",
       "0   1956    Stanley Matthews   Alfredo Di Stéfano       Raymond Kopa\n",
       "1   1957  Alfredo Di Stéfano         Billy Wright     Duncan Edwards\n",
       "2   1958        Raymond Kopa          Helmut Rahn      Just Fontaine\n",
       "3   1959  Alfredo Di Stéfano         Raymond Kopa       John Charles\n",
       "4   1960         Luis Suárez        Ferenc Puskás         Uwe Seeler\n",
       "..   ...                 ...                  ...                ...\n",
       "61  2017   Cristiano Ronaldo         Lionel Messi             Neymar\n",
       "62  2018         Luka Modrić    Cristiano Ronaldo  Antoine Griezmann\n",
       "63  2019        Lionel Messi      Virgil van Dijk  Cristiano Ronaldo\n",
       "64  2021        Lionel Messi  Paris Saint-Germain                   \n",
       "65  2022       Karim Benzema           Sadio Mané    Kevin De Bruyne\n",
       "\n",
       "[66 rows x 4 columns]"
      ]
     },
     "execution_count": 30,
     "metadata": {},
     "output_type": "execute_result"
    }
   ],
   "source": [
    "df"
   ]
  },
  {
   "cell_type": "code",
   "execution_count": 28,
   "metadata": {},
   "outputs": [],
   "source": [
    "df.to_csv('winner.csv', index=False)"
   ]
  }
 ],
 "metadata": {
  "kernelspec": {
   "display_name": ".venv_uws",
   "language": "python",
   "name": "python3"
  },
  "language_info": {
   "codemirror_mode": {
    "name": "ipython",
    "version": 3
   },
   "file_extension": ".py",
   "mimetype": "text/x-python",
   "name": "python",
   "nbconvert_exporter": "python",
   "pygments_lexer": "ipython3",
   "version": "3.10.11"
  },
  "orig_nbformat": 4
 },
 "nbformat": 4,
 "nbformat_minor": 2
}
