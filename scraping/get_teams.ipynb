{
 "cells": [
  {
   "cell_type": "code",
   "execution_count": 2,
   "metadata": {},
   "outputs": [],
   "source": [
    "import aiohttp\n",
    "import asyncio\n",
    "from aiohttp import ClientSession\n",
    "import os\n",
    "from dotenv import load_dotenv"
   ]
  },
  {
   "cell_type": "code",
   "execution_count": 3,
   "metadata": {},
   "outputs": [],
   "source": [
    "load_dotenv()\n",
    "api_key = os.getenv('API_KEY')\n",
    "api_host = os.getenv('API_HOST')\n",
    "competetions = ['L1', 'GB1', 'ES1', 'IT1', 'FR1']\n",
    "seasons = list(range(2000, 2021))\n",
    "next_delay = 0.3\n"
   ]
  },
  {
   "cell_type": "code",
   "execution_count": 4,
   "metadata": {},
   "outputs": [],
   "source": [
    "teams_per_season = {}\n",
    "\n",
    "for league in competetions:\n",
    "    teams_per_season[league] = {}\n",
    "    for season in seasons:\n",
    "        teams_per_season[league][season] = {}"
   ]
  },
  {
   "cell_type": "code",
   "execution_count": 5,
   "metadata": {},
   "outputs": [],
   "source": [
    "async def get_table(league, season, session):\n",
    "    global next_delay\n",
    "    \n",
    "    next_delay += 0.3\n",
    "    await asyncio.sleep(next_delay)\n",
    "    \n",
    "    url = 'https://transfermarket.p.rapidapi.com/competitions/get-table'\n",
    "    querystring = {'id':league, 'seasonID':season}\n",
    "    headers = {\n",
    "        'X-RapidAPI-Key': api_key,\n",
    "        'X-RapidAPI-Host': api_host\n",
    "        }\n",
    "    \n",
    "    async with session.get(url, headers=headers, params=querystring) as response:\n",
    "        json = await response.json()\n",
    "        if json.get('table') is not None:\n",
    "            table = json.get('table')\n",
    "            teams_per_season[league][season] = [int(table[i].get('id')) for i in range(len(table))]\n",
    "            return True\n",
    "        return False\n",
    "        \n",
    "\n",
    "async def get_tables(competetions, seasons):\n",
    "    \n",
    "    async with aiohttp.ClientSession() as session:\n",
    "        tasks = []\n",
    "        for league in competetions:\n",
    "            for season in seasons:  \n",
    "                if not teams_per_season[league][season]:\n",
    "                    tasks.append(asyncio.ensure_future(get_table(league, season, session)))\n",
    "        await asyncio.gather(*tasks)\n",
    "        \n",
    "    global next_delay\n",
    "    next_delay = 0.3\n"
   ]
  },
  {
   "cell_type": "code",
   "execution_count": 6,
   "metadata": {},
   "outputs": [],
   "source": [
    "await get_tables(competetions, seasons)"
   ]
  },
  {
   "cell_type": "markdown",
   "metadata": {},
   "source": []
  },
  {
   "cell_type": "code",
   "execution_count": 7,
   "metadata": {},
   "outputs": [],
   "source": [
    "# write teams_per_season to csv\n",
    "import csv\n",
    "with open('teams_per_season.csv', 'w', newline='') as csvfile:\n",
    "    writer = csv.writer(csvfile, delimiter=';')\n",
    "    for league in competetions:\n",
    "        for season in seasons:\n",
    "            if teams_per_season[league][season]:\n",
    "                writer.writerow([league, season, teams_per_season[league][season]])"
   ]
  }
 ],
 "metadata": {
  "kernelspec": {
   "display_name": "Python 3.9.12 ('bdo_venv': venv)",
   "language": "python",
   "name": "python3"
  },
  "language_info": {
   "codemirror_mode": {
    "name": "ipython",
    "version": 3
   },
   "file_extension": ".py",
   "mimetype": "text/x-python",
   "name": "python",
   "nbconvert_exporter": "python",
   "pygments_lexer": "ipython3",
   "version": "3.9.12"
  },
  "orig_nbformat": 4,
  "vscode": {
   "interpreter": {
    "hash": "ef3b7d2769b743756ce8b3a2b0992bee8ee243f36170a3861846b458558757b5"
   }
  }
 },
 "nbformat": 4,
 "nbformat_minor": 2
}
